{
 "cells": [
  {
   "cell_type": "code",
   "execution_count": 2,
   "metadata": {},
   "outputs": [
    {
     "name": "stdout",
     "output_type": "stream",
     "text": [
      "Enter area : 2\n",
      "Area  is : 12.568\n",
      "Enter your name :Hassan\n",
      "Enter your age :22\n",
      "You will turn 100 year on : 2098\n"
     ]
    }
   ],
   "source": [
    "#Ex : 1\n",
    "# a) Write a Python program which accepts the radius of a circle from the user and compute the area\n",
    "# b) Create a program that asks the user to enter their name and their age. Print out a message addressed to them that tells them the year that they will turn 100 years old.\n",
    "#AREA PROGRAM  PYTHON\n",
    "\n",
    "R= int(input(\"Enter area : \"))\n",
    "#for area calculation we  use formula πr^2 π= 3.142\n",
    "area=  3.142*R**2\n",
    "print(\"Area  is :\",area)\n",
    "\n",
    "# Turning 100 year program python\n",
    "name=input(\"Enter your name :\")\n",
    "age= int(input(\"Enter your age :\"))\n",
    "Res= 2020 - age + 100\n",
    "print(\"You will turn 100 year on :\",Res)\n"
   ]
  },
  {
   "cell_type": "code",
   "execution_count": 11,
   "metadata": {},
   "outputs": [
    {
     "ename": "IndentationError",
     "evalue": "unexpected indent (<ipython-input-11-d32954e60918>, line 5)",
     "output_type": "error",
     "traceback": [
      "\u001b[1;36m  File \u001b[1;32m\"<ipython-input-11-d32954e60918>\"\u001b[1;36m, line \u001b[1;32m5\u001b[0m\n\u001b[1;33m    Numb=int(input(\"Enter your age :\"))\u001b[0m\n\u001b[1;37m    ^\u001b[0m\n\u001b[1;31mIndentationError\u001b[0m\u001b[1;31m:\u001b[0m unexpected indent\n"
     ]
    }
   ],
   "source": [
    "\n",
    "        "
   ]
  },
  {
   "cell_type": "code",
   "execution_count": 7,
   "metadata": {},
   "outputs": [
    {
     "name": "stdout",
     "output_type": "stream",
     "text": [
      "Enter any no :7\n",
      "Odd no\n"
     ]
    }
   ],
   "source": [
    "#Ex : 2\n",
    "#Ask the user for a number. Depending on whether the number is even or odd, print out an appropriate message to the user.\n",
    "\n",
    "#Even and odd program python\n",
    "Numb=int(input(\"Enter any no :\"))\n",
    "if Numb % 2==0:\n",
    "    print(\"Even no\")\n",
    "elif Numb % 1 ==0:\n",
    "    print(\"Odd no\")\n",
    "else:\n",
    "    print(\"not a no\")\n",
    "    "
   ]
  },
  {
   "cell_type": "code",
   "execution_count": 10,
   "metadata": {},
   "outputs": [
    {
     "name": "stdout",
     "output_type": "stream",
     "text": [
      "Enter aliuen color : yellow\n",
      "Sorry!! Bad suggestion better luck next time \n"
     ]
    }
   ],
   "source": [
    "#Ex : 3\n",
    "#Imagine an alien was just shot down in a game. Create a variable called alien_color and assign it a value of 'green', 'yellow', or 'red'.\n",
    "#Write an if statement to test whether the alien’s color is green. If it is, print a message that the player just earned 5 points.\n",
    "#Write one version of this program that passes the if test and another that fails. (The version that fails will have no output.)\n",
    "\n",
    "#Alien  Program python\n",
    "alien_color = input(\"Enter aliuen color : \")\n",
    "alien_color.lower()\n",
    "if alien_color==\"green\":\n",
    "    print(\" You earn 5 points \")\n",
    "else:\n",
    "    print(\"Sorry!! Bad suggestion better luck next time \")\n",
    "    "
   ]
  },
  {
   "cell_type": "code",
   "execution_count": 11,
   "metadata": {},
   "outputs": [
    {
     "name": "stdout",
     "output_type": "stream",
     "text": [
      "Enter aliuen color : blue\n",
      "You earned 10 points \n"
     ]
    }
   ],
   "source": [
    "#Ex : 4\n",
    "#Choose a color for an alien as you did in Exercise 3, and write an if-else chain.\n",
    "\n",
    "#If the alien’s color is green, print a statement that the player just earned 5 points for shooting the alien.\n",
    "#If the alien’s color isn’t green, print a statement that the player just earned 10 points.\n",
    "#Write one version of this program that runs the if block and another that runs the else block.\n",
    "\n",
    "#Alien program second version python\n",
    "alien_color = input(\"Enter aliuen color : \")\n",
    "alien_color.lower()\n",
    "if alien_color==\"green\":\n",
    "    print(\" You earn 5 points \")\n",
    "elif alien_color!=\"green\":\n",
    "    print(\"You earned 10 points \")\n"
   ]
  },
  {
   "cell_type": "code",
   "execution_count": 21,
   "metadata": {},
   "outputs": [
    {
     "name": "stdout",
     "output_type": "stream",
     "text": [
      "Enter person age :80\n",
      "person is an elder.\n"
     ]
    }
   ],
   "source": [
    "#Write an if-elif-else chain that determines a person’s stage of life. Set a value for the variable age, and then:\n",
    "\n",
    "#If the person is less than 2 years old, print a message that the person is a baby.\n",
    "#If the person is at least 2 years old but less than 4, print a message that the person is a toddler.\n",
    "#If the person is at least 4 years old but less than 13, print a message that the person is a kid.\n",
    "#If the person is at least 13 years old but less than 20, print a message that the person is a teenager.\n",
    "#If the person is at least 20 years old but less than 65, print a message that the person is an adult.\n",
    "#If the person is age 65 or older, print a message that the person is an elder\n",
    "\n",
    "#Person age program python \n",
    "age= int(input(\"Enter person age :\"))\n",
    "if age<2:\n",
    "    print(\"person is a baby.\")\n",
    "elif age==2 or age<4:\n",
    "    print(\"person is a toddler.\")\n",
    "elif age==4 or age<13:\n",
    "    print(\"the person is a kid.\")\n",
    "elif age==13 or age<20:\n",
    "    print(\"the person is a teenager.\")\n",
    "elif age==20 or age<65: \n",
    "    print(\"the person is an adult.\")\n",
    "elif age==65 or age>65:\n",
    "    print(\"person is an elder.\")"
   ]
  },
  {
   "cell_type": "code",
   "execution_count": null,
   "metadata": {},
   "outputs": [],
   "source": []
  }
 ],
 "metadata": {
  "kernelspec": {
   "display_name": "Python 3",
   "language": "python",
   "name": "python3"
  },
  "language_info": {
   "codemirror_mode": {
    "name": "ipython",
    "version": 3
   },
   "file_extension": ".py",
   "mimetype": "text/x-python",
   "name": "python",
   "nbconvert_exporter": "python",
   "pygments_lexer": "ipython3",
   "version": "3.7.4"
  }
 },
 "nbformat": 4,
 "nbformat_minor": 2
}
